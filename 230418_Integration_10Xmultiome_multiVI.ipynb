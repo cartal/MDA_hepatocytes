{
 "cells": [
  {
   "cell_type": "markdown",
   "metadata": {},
   "source": [
    "### Notebook for the exploratory analysis of hepatocytes multiome data with `MultiVI`\n",
    "\n",
    "- **Developed by**: Carlos Talavera-López\n",
    "- **Institute of Computational Biology - Computational Health Department - Helmholtz Munich**\n",
    "- v220829 "
   ]
  },
  {
   "cell_type": "markdown",
   "metadata": {},
   "source": [
    "### Import required packages "
   ]
  },
  {
   "cell_type": "code",
   "execution_count": 1,
   "metadata": {},
   "outputs": [
    {
     "name": "stderr",
     "output_type": "stream",
     "text": [
      "Global seed set to 0\n",
      "/Users/cartalop/mambaforge/envs/multiVI/lib/python3.9/site-packages/tqdm/auto.py:21: TqdmWarning: IProgress not found. Please update jupyter and ipywidgets. See https://ipywidgets.readthedocs.io/en/stable/user_install.html\n",
      "  from .autonotebook import tqdm as notebook_tqdm\n",
      "/Users/cartalop/mambaforge/envs/multiVI/lib/python3.9/site-packages/flax/struct.py:132: FutureWarning: jax.tree_util.register_keypaths is deprecated, and will be removed in a future release. Please use `register_pytree_with_keys()` instead.\n",
      "  jax.tree_util.register_keypaths(data_clz, keypaths)\n",
      "/Users/cartalop/mambaforge/envs/multiVI/lib/python3.9/site-packages/flax/struct.py:132: FutureWarning: jax.tree_util.register_keypaths is deprecated, and will be removed in a future release. Please use `register_pytree_with_keys()` instead.\n",
      "  jax.tree_util.register_keypaths(data_clz, keypaths)\n",
      "/Users/cartalop/mambaforge/envs/multiVI/lib/python3.9/site-packages/flax/struct.py:132: FutureWarning: jax.tree_util.register_keypaths is deprecated, and will be removed in a future release. Please use `register_pytree_with_keys()` instead.\n",
      "  jax.tree_util.register_keypaths(data_clz, keypaths)\n"
     ]
    }
   ],
   "source": [
    "import scvi\n",
    "import anndata\n",
    "import numpy as np\n",
    "import scanpy as sc"
   ]
  },
  {
   "cell_type": "markdown",
   "metadata": {},
   "source": [
    "### Set up working environment"
   ]
  },
  {
   "cell_type": "code",
   "execution_count": 2,
   "metadata": {},
   "outputs": [
    {
     "name": "stderr",
     "output_type": "stream",
     "text": [
      "Global seed set to 1712\n"
     ]
    },
    {
     "name": "stdout",
     "output_type": "stream",
     "text": [
      "-----\n",
      "anndata     0.9.1\n",
      "scanpy      1.9.3\n",
      "-----\n",
      "PIL                 9.5.0\n",
      "absl                NA\n",
      "appnope             0.1.3\n",
      "asttokens           NA\n",
      "backcall            0.2.0\n",
      "brotli              NA\n",
      "certifi             2022.12.07\n",
      "cffi                1.15.1\n",
      "charset_normalizer  3.1.0\n",
      "chex                0.1.7\n",
      "colorama            0.4.6\n",
      "comm                0.1.3\n",
      "contextlib2         NA\n",
      "cycler              0.10.0\n",
      "cython_runtime      NA\n",
      "dateutil            2.8.2\n",
      "debugpy             1.6.7\n",
      "decorator           5.1.1\n",
      "docrep              0.3.2\n",
      "executing           1.2.0\n",
      "flax                0.6.1\n",
      "fsspec              2023.4.0\n",
      "gmpy2               2.1.2\n",
      "h5py                3.8.0\n",
      "idna                3.4\n",
      "igraph              0.10.4\n",
      "importlib_resources NA\n",
      "ipykernel           6.22.0\n",
      "jax                 0.4.8\n",
      "jaxlib              0.4.7\n",
      "jedi                0.18.2\n",
      "joblib              1.2.0\n",
      "kiwisolver          1.4.4\n",
      "leidenalg           0.9.1\n",
      "lightning_fabric    1.9.4\n",
      "lightning_utilities 0.8.0\n",
      "llvmlite            0.39.1\n",
      "matplotlib          3.7.1\n",
      "ml_collections      NA\n",
      "ml_dtypes           0.1.0\n",
      "mpl_toolkits        NA\n",
      "mpmath              1.3.0\n",
      "msgpack             1.0.5\n",
      "mudata              0.2.2\n",
      "multipledispatch    0.6.0\n",
      "natsort             8.3.1\n",
      "numba               0.56.4\n",
      "numpy               1.23.5\n",
      "numpyro             0.11.0\n",
      "opt_einsum          v3.3.0\n",
      "optax               0.1.4\n",
      "packaging           23.1\n",
      "pandas              2.0.0\n",
      "parso               0.8.3\n",
      "pexpect             4.8.0\n",
      "pickleshare         0.7.5\n",
      "pkg_resources       NA\n",
      "platformdirs        3.2.0\n",
      "prompt_toolkit      3.0.38\n",
      "psutil              5.9.5\n",
      "ptyprocess          0.7.0\n",
      "pure_eval           0.2.2\n",
      "pydev_ipython       NA\n",
      "pydevconsole        NA\n",
      "pydevd              2.9.5\n",
      "pydevd_file_utils   NA\n",
      "pydevd_plugins      NA\n",
      "pydevd_tracing      NA\n",
      "pygments            2.15.0\n",
      "pyparsing           3.0.9\n",
      "pyro                1.8.4+9ed468d\n",
      "pytorch_lightning   1.9.4\n",
      "pytz                2023.3\n",
      "requests            2.28.2\n",
      "rich                NA\n",
      "scipy               1.10.1\n",
      "scvi                0.20.3\n",
      "session_info        1.0.0\n",
      "setuptools          67.6.1\n",
      "six                 1.16.0\n",
      "sklearn             1.2.2\n",
      "socks               1.7.1\n",
      "stack_data          0.6.2\n",
      "sympy               1.11.1\n",
      "texttable           1.6.7\n",
      "threadpoolctl       3.1.0\n",
      "toolz               0.12.0\n",
      "torch               2.0.0\n",
      "torchmetrics        0.11.4\n",
      "tornado             6.3\n",
      "tqdm                4.65.0\n",
      "traitlets           5.9.0\n",
      "tree                0.1.7\n",
      "typing_extensions   NA\n",
      "urllib3             1.26.15\n",
      "wcwidth             0.2.6\n",
      "yaml                6.0\n",
      "zipp                NA\n",
      "zmq                 25.0.2\n",
      "zoneinfo            NA\n",
      "-----\n",
      "IPython             8.12.0\n",
      "jupyter_client      8.2.0\n",
      "jupyter_core        5.3.0\n",
      "-----\n",
      "Python 3.9.16 | packaged by conda-forge | (main, Feb  1 2023, 21:42:20) [Clang 14.0.6 ]\n",
      "macOS-13.3.1-x86_64-i386-64bit\n",
      "-----\n",
      "Session information updated at 2023-04-18 14:47\n"
     ]
    }
   ],
   "source": [
    "scvi.settings.seed = 1712\n",
    "np.random.seed(1769)\n",
    "\n",
    "sc.settings.verbosity = 3\n",
    "sc.logging.print_versions()\n",
    "sc.settings.set_figure_params(dpi = 180, color_map = 'magma_r', dpi_save = 300, vector_friendly = True, format = 'svg')"
   ]
  },
  {
   "cell_type": "code",
   "execution_count": 3,
   "metadata": {},
   "outputs": [],
   "source": [
    "%config InlineBackend.print_figure_kwargs={'facecolor' : \"w\"}\n",
    "%config InlineBackend.figure_format='retina'"
   ]
  },
  {
   "cell_type": "markdown",
   "metadata": {},
   "source": [
    "### Read in 10X multiome samples"
   ]
  },
  {
   "cell_type": "code",
   "execution_count": 4,
   "metadata": {},
   "outputs": [
    {
     "name": "stdout",
     "output_type": "stream",
     "text": [
      "reading ../MDA_hepatocytes/data/MO12_sample_files/MO12_filtered_feature_bc_matrix.h5\n",
      " (0:00:01)\n"
     ]
    },
    {
     "data": {
      "text/plain": [
       "AnnData object with n_obs × n_vars = 4581 × 22441\n",
       "    var: 'gene_ids', 'feature_types', 'genome'"
      ]
     },
     "execution_count": 4,
     "metadata": {},
     "output_type": "execute_result"
    }
   ],
   "source": [
    "adata_1 = sc.read_10x_h5(\"../MDA_hepatocytes/data/MO12_sample_files/MO12_filtered_feature_bc_matrix.h5\")\n",
    "adata_1.var_names_make_unique()\n",
    "adata_1"
   ]
  },
  {
   "cell_type": "code",
   "execution_count": 8,
   "metadata": {},
   "outputs": [
    {
     "data": {
      "text/plain": [
       "feature_types\n",
       "Gene Expression    22441\n",
       "Name: count, dtype: int64"
      ]
     },
     "execution_count": 8,
     "metadata": {},
     "output_type": "execute_result"
    }
   ],
   "source": [
    "adata_1.var['feature_types'].value_counts()"
   ]
  },
  {
   "cell_type": "code",
   "execution_count": 5,
   "metadata": {},
   "outputs": [
    {
     "name": "stdout",
     "output_type": "stream",
     "text": [
      "reading ../MDA_hepatocytes/data/MO9_sample_files/MO9_filtered_feature_bc_matrix.h5\n",
      " (0:00:02)\n"
     ]
    },
    {
     "data": {
      "text/plain": [
       "AnnData object with n_obs × n_vars = 7421 × 22441\n",
       "    var: 'gene_ids', 'feature_types', 'genome'"
      ]
     },
     "execution_count": 5,
     "metadata": {},
     "output_type": "execute_result"
    }
   ],
   "source": [
    "adata_2 = sc.read_10x_h5(\"../MDA_hepatocytes/data/MO9_sample_files/MO9_filtered_feature_bc_matrix.h5\")\n",
    "adata_2.var_names_make_unique()\n",
    "adata_2"
   ]
  },
  {
   "cell_type": "code",
   "execution_count": 9,
   "metadata": {},
   "outputs": [
    {
     "data": {
      "text/plain": [
       "feature_types\n",
       "Gene Expression    22441\n",
       "Name: count, dtype: int64"
      ]
     },
     "execution_count": 9,
     "metadata": {},
     "output_type": "execute_result"
    }
   ],
   "source": [
    "adata_2.var['feature_types'].value_counts()"
   ]
  },
  {
   "cell_type": "code",
   "execution_count": 6,
   "metadata": {},
   "outputs": [
    {
     "name": "stdout",
     "output_type": "stream",
     "text": [
      "reading ../MDA_hepatocytes/data/MO6_sample_files/MO6_filtered_feature_bc_matrix.h5\n",
      " (0:00:03)\n"
     ]
    },
    {
     "data": {
      "text/plain": [
       "AnnData object with n_obs × n_vars = 5020 × 22441\n",
       "    var: 'gene_ids', 'feature_types', 'genome'"
      ]
     },
     "execution_count": 6,
     "metadata": {},
     "output_type": "execute_result"
    }
   ],
   "source": [
    "adata_3 = sc.read_10x_h5(\"../MDA_hepatocytes/data/MO6_sample_files/MO6_filtered_feature_bc_matrix.h5\")\n",
    "adata_3.var_names_make_unique()\n",
    "adata_3"
   ]
  },
  {
   "cell_type": "code",
   "execution_count": 10,
   "metadata": {},
   "outputs": [
    {
     "data": {
      "text/plain": [
       "feature_types\n",
       "Gene Expression    22441\n",
       "Name: count, dtype: int64"
      ]
     },
     "execution_count": 10,
     "metadata": {},
     "output_type": "execute_result"
    }
   ],
   "source": [
    "adata_3.var['feature_types'].value_counts()"
   ]
  },
  {
   "attachments": {},
   "cell_type": "markdown",
   "metadata": {},
   "source": [
    "### Concatenate samples into a single object"
   ]
  },
  {
   "cell_type": "code",
   "execution_count": 11,
   "metadata": {},
   "outputs": [
    {
     "name": "stderr",
     "output_type": "stream",
     "text": [
      "/Users/cartalop/mambaforge/envs/multiVI/lib/python3.9/site-packages/anndata/_core/anndata.py:1755: FutureWarning: The AnnData.concatenate method is deprecated in favour of the anndata.concat function. Please use anndata.concat instead.\n",
      "\n",
      "See the tutorial for concat at: https://anndata.readthedocs.io/en/latest/concatenation.html\n",
      "  warnings.warn(\n"
     ]
    },
    {
     "data": {
      "text/plain": [
       "AnnData object with n_obs × n_vars = 17022 × 22441\n",
       "    obs: 'sample'\n",
       "    var: 'gene_ids', 'feature_types', 'genome'"
      ]
     },
     "execution_count": 11,
     "metadata": {},
     "output_type": "execute_result"
    }
   ],
   "source": [
    "adata = adata_1.concatenate(adata_2, adata_3, batch_key = 'sample', batch_categories = ['M012', 'M09', 'M06'], join = 'inner')\n",
    "adata"
   ]
  },
  {
   "attachments": {},
   "cell_type": "markdown",
   "metadata": {},
   "source": [
    "### Split to three datasets by modality (RNA, ATAC, Multiome)\n",
    "\n",
    "- Here we also add a composite to train the model with single-modalities. To assign a vlaue to `n` you need to divide the number of cells for one of the modalities into the total number of samples. \n",
    "- In this case we have three samples and a total number of cells of 17022. So we will use `n = 5674`. This value will change depending on the number of samples analysed and the total number of cells after concatenation. "
   ]
  },
  {
   "cell_type": "code",
   "execution_count": null,
   "metadata": {},
   "outputs": [],
   "source": [
    "n = 5674"
   ]
  },
  {
   "cell_type": "code",
   "execution_count": null,
   "metadata": {},
   "outputs": [],
   "source": [
    "adata_rna = adata[:n, adata.var.modality == \"Gene Expression\"].copy()\n",
    "adata_paired = adata[n:2 * n].copy()\n",
    "adata_atac = adata[2 * n:, adata.var.modality == \"Peaks\"].copy()"
   ]
  },
  {
   "cell_type": "code",
   "execution_count": null,
   "metadata": {},
   "outputs": [],
   "source": [
    "adata_rna"
   ]
  },
  {
   "cell_type": "code",
   "execution_count": null,
   "metadata": {},
   "outputs": [],
   "source": [
    "adata_atac"
   ]
  },
  {
   "cell_type": "markdown",
   "metadata": {},
   "source": [
    "### Concatenate data subsets"
   ]
  },
  {
   "cell_type": "code",
   "execution_count": null,
   "metadata": {},
   "outputs": [],
   "source": [
    "adata_mvi = scvi.data.organize_multiome_anndatas(adata_paired, adata_rna, adata_atac)\n",
    "adata_mvi"
   ]
  },
  {
   "cell_type": "code",
   "execution_count": null,
   "metadata": {},
   "outputs": [],
   "source": [
    "adata_mvi.obs"
   ]
  },
  {
   "cell_type": "markdown",
   "metadata": {},
   "source": [
    "### `MultiVI` requires the genomic features to be first in the `anndata` object. We arrange for this below."
   ]
  },
  {
   "cell_type": "code",
   "execution_count": null,
   "metadata": {},
   "outputs": [],
   "source": [
    "adata_mvi = adata_mvi[:, adata_mvi.var[\"modality\"].argsort()].copy()\n",
    "adata_mvi.var"
   ]
  },
  {
   "cell_type": "markdown",
   "metadata": {},
   "source": [
    "### Remove potentially empty cells"
   ]
  },
  {
   "cell_type": "code",
   "execution_count": null,
   "metadata": {},
   "outputs": [],
   "source": [
    "print(adata_mvi.shape)\n",
    "sc.pp.filter_genes(adata_mvi, min_cells = int(adata_mvi.shape[0] * 0.01))\n",
    "print(adata_mvi.shape)"
   ]
  },
  {
   "cell_type": "markdown",
   "metadata": {},
   "source": [
    "### Set up model"
   ]
  },
  {
   "cell_type": "code",
   "execution_count": null,
   "metadata": {},
   "outputs": [],
   "source": [
    "scvi.model.MULTIVI.setup_anndata(adata_mvi, batch_key = 'modality')"
   ]
  },
  {
   "cell_type": "code",
   "execution_count": null,
   "metadata": {},
   "outputs": [],
   "source": [
    "mvi = scvi.model.MULTIVI(\n",
    "    adata_mvi,\n",
    "    n_genes = (adata_mvi.var['modality']=='Gene Expression').sum(),\n",
    "    n_regions = (adata_mvi.var['modality']=='Peaks').sum(),\n",
    ")\n",
    "mvi.view_anndata_setup()"
   ]
  },
  {
   "cell_type": "markdown",
   "metadata": {},
   "source": [
    "### Train model"
   ]
  },
  {
   "cell_type": "code",
   "execution_count": null,
   "metadata": {},
   "outputs": [],
   "source": [
    "mvi.train()"
   ]
  },
  {
   "cell_type": "markdown",
   "metadata": {},
   "source": [
    "### Save and load `MultiVI` model"
   ]
  },
  {
   "cell_type": "code",
   "execution_count": null,
   "metadata": {},
   "outputs": [],
   "source": [
    "mvi.save(\"trained_multivi\")\n",
    "mvi = scvi.model.MULTIVI.load(\"trained_multivi\", adata = adata_mvi)"
   ]
  },
  {
   "cell_type": "markdown",
   "metadata": {},
   "source": [
    "### Visualise latent space "
   ]
  },
  {
   "cell_type": "code",
   "execution_count": null,
   "metadata": {},
   "outputs": [],
   "source": [
    "adata_mvi.obsm[\"MultiVI_latent\"] = mvi.get_latent_representation()\n",
    "sc.pp.neighbors(adata_mvi, use_rep = \"MultiVI_latent\")\n",
    "sc.tl.umap(adata_mvi, min_dist = 0.3, spread = 1)\n",
    "sc.tl.leiden(adata_mvi, resolution = 1)\n",
    "sc.pl.umap(adata_mvi, color = ['modality', 'leiden'], frameon = False, size = 1)"
   ]
  },
  {
   "cell_type": "markdown",
   "metadata": {},
   "source": [
    "### Impute gene values for joint annotation\n",
    "\n",
    "In a well-mixed space, `MultiVI` can seamlessly impute the missing modalities for single-modality cells."
   ]
  },
  {
   "cell_type": "code",
   "execution_count": null,
   "metadata": {},
   "outputs": [],
   "source": [
    "imputed_expression = mvi.get_normalized_expression()"
   ]
  },
  {
   "cell_type": "code",
   "execution_count": null,
   "metadata": {},
   "outputs": [],
   "source": [
    "gene_idx = np.where(adata_mvi.var.index == \"CD3G\")[0]\n",
    "adata_mvi.obs[\"CD3G_imputed\"] = imputed_expression.iloc[:, gene_idx]\n",
    "sc.pl.umap(adata_mvi, color='CD3G_imputed')"
   ]
  },
  {
   "cell_type": "code",
   "execution_count": null,
   "metadata": {},
   "outputs": [],
   "source": []
  }
 ],
 "metadata": {
  "kernelspec": {
   "display_name": "Python 3.9.13 ('multiVI')",
   "language": "python",
   "name": "python3"
  },
  "language_info": {
   "codemirror_mode": {
    "name": "ipython",
    "version": 3
   },
   "file_extension": ".py",
   "mimetype": "text/x-python",
   "name": "python",
   "nbconvert_exporter": "python",
   "pygments_lexer": "ipython3",
   "version": "3.9.16"
  },
  "orig_nbformat": 4,
  "vscode": {
   "interpreter": {
    "hash": "64949307064c264bb7df32bbbf8591346c70792d42775190a9cca632c76375ce"
   }
  }
 },
 "nbformat": 4,
 "nbformat_minor": 2
}
